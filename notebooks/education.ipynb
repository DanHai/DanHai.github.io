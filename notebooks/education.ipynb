{
 "cells": [
  {
   "cell_type": "code",
   "execution_count": 1,
   "metadata": {
    "execution": {
     "iopub.execute_input": "2021-05-04T20:48:59.938311Z",
     "iopub.status.busy": "2021-05-04T20:48:59.932604Z",
     "iopub.status.idle": "2021-05-04T20:49:00.327001Z",
     "shell.execute_reply": "2021-05-04T20:49:00.327441Z"
    }
   },
   "outputs": [
    {
     "data": {
      "text/html": [
       "<div>\n",
       "<style scoped>\n",
       "    .dataframe tbody tr th:only-of-type {\n",
       "        vertical-align: middle;\n",
       "    }\n",
       "\n",
       "    .dataframe tbody tr th {\n",
       "        vertical-align: top;\n",
       "    }\n",
       "\n",
       "    .dataframe thead th {\n",
       "        text-align: right;\n",
       "    }\n",
       "</style>\n",
       "<table border=\"1\" class=\"dataframe\">\n",
       "  <thead>\n",
       "    <tr style=\"text-align: right;\">\n",
       "      <th></th>\n",
       "      <th>Degree</th>\n",
       "      <th>Institution</th>\n",
       "      <th>Field</th>\n",
       "      <th>From</th>\n",
       "      <th>Until</th>\n",
       "    </tr>\n",
       "  </thead>\n",
       "  <tbody>\n",
       "    <tr>\n",
       "      <th>0</th>\n",
       "      <td>Ph.D</td>\n",
       "      <td>University of Bayreuth</td>\n",
       "      <td>Computer Science</td>\n",
       "      <td>2020</td>\n",
       "      <td>2024</td>\n",
       "    </tr>\n",
       "    <tr>\n",
       "      <th>1</th>\n",
       "      <td>Master of Science</td>\n",
       "      <td>University Munich</td>\n",
       "      <td>Computer Science</td>\n",
       "      <td>2018</td>\n",
       "      <td>2020</td>\n",
       "    </tr>\n",
       "    <tr>\n",
       "      <th>2</th>\n",
       "      <td>Exchange</td>\n",
       "      <td>Yonsei University</td>\n",
       "      <td>Computer Science</td>\n",
       "      <td>2016</td>\n",
       "      <td>2017</td>\n",
       "    </tr>\n",
       "    <tr>\n",
       "      <th>3</th>\n",
       "      <td>Bachelor of Science</td>\n",
       "      <td>University Munich</td>\n",
       "      <td>Media Informatics</td>\n",
       "      <td>2013</td>\n",
       "      <td>2018</td>\n",
       "    </tr>\n",
       "  </tbody>\n",
       "</table>\n",
       "</div>"
      ],
      "text/plain": [
       "                Degree             Institution              Field  From  Until\n",
       "0                 Ph.D  University of Bayreuth   Computer Science  2020   2024\n",
       "1    Master of Science       University Munich   Computer Science  2018   2020\n",
       "2             Exchange       Yonsei University   Computer Science  2016   2017\n",
       "3  Bachelor of Science       University Munich  Media Informatics  2013   2018"
      ]
     },
     "execution_count": 1,
     "metadata": {},
     "output_type": "execute_result"
    }
   ],
   "source": [
    "import pandas as pd\n",
    "from pathlib import Path\n",
    "\n",
    "education = pd.read_csv('../data/education.csv')\n",
    "education"
   ]
  },
  {
   "cell_type": "code",
   "execution_count": 2,
   "metadata": {
    "execution": {
     "iopub.execute_input": "2021-05-04T20:49:00.331567Z",
     "iopub.status.busy": "2021-05-04T20:49:00.330996Z",
     "iopub.status.idle": "2021-05-04T20:49:00.332706Z",
     "shell.execute_reply": "2021-05-04T20:49:00.333061Z"
    }
   },
   "outputs": [],
   "source": [
    "def format_education(education_df):\n",
    "    def mapDiv(item):\n",
    "        return '''\n",
    "        <div class=\"education-item\">\n",
    "            <div class=\"education-item-institution\">%(Institution)s</div>\n",
    "            <div class=\"education-item-degree\">%(Degree)s</div>\n",
    "            <div class=\"education-item-until\">%(Until)s</div>\n",
    "            <div class=\"education-item-field\">%(Field)s</div>\n",
    "        </div>\n",
    "        ''' % item\n",
    "    \n",
    "    edu_items = \"\\n\".join([mapDiv(item) for _, item in education_df.iterrows()])\n",
    "    return f'''\n",
    "        <div class=\"education\">\n",
    "            {edu_items} \n",
    "        </div>\n",
    "    '''"
   ]
  },
  {
   "cell_type": "code",
   "execution_count": 3,
   "metadata": {
    "execution": {
     "iopub.execute_input": "2021-05-04T20:49:00.335791Z",
     "iopub.status.busy": "2021-05-04T20:49:00.335251Z",
     "iopub.status.idle": "2021-05-04T20:49:00.338037Z",
     "shell.execute_reply": "2021-05-04T20:49:00.338387Z"
    }
   },
   "outputs": [],
   "source": [
    "with Path('../_sections/_education.html').open('w') as out:\n",
    "    out.write(format_education(education))"
   ]
  }
 ],
 "metadata": {
  "language_info": {
   "codemirror_mode": {
    "name": "ipython",
    "version": 3
   },
   "file_extension": ".py",
   "mimetype": "text/x-python",
   "name": "python",
   "nbconvert_exporter": "python",
   "pygments_lexer": "ipython3",
   "version": "3.8.5"
  }
 },
 "nbformat": 4,
 "nbformat_minor": 2
}
