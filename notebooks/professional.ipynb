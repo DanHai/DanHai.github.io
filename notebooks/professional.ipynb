{
 "cells": [
  {
   "cell_type": "code",
   "execution_count": 1,
   "metadata": {
    "execution": {
     "iopub.execute_input": "2021-05-04T20:49:02.382497Z",
     "iopub.status.busy": "2021-05-04T20:49:02.379831Z",
     "iopub.status.idle": "2021-05-04T20:49:02.750288Z",
     "shell.execute_reply": "2021-05-04T20:49:02.750761Z"
    }
   },
   "outputs": [
    {
     "data": {
      "text/html": [
       "<div>\n",
       "<style scoped>\n",
       "    .dataframe tbody tr th:only-of-type {\n",
       "        vertical-align: middle;\n",
       "    }\n",
       "\n",
       "    .dataframe tbody tr th {\n",
       "        vertical-align: top;\n",
       "    }\n",
       "\n",
       "    .dataframe thead th {\n",
       "        text-align: right;\n",
       "    }\n",
       "</style>\n",
       "<table border=\"1\" class=\"dataframe\">\n",
       "  <thead>\n",
       "    <tr style=\"text-align: right;\">\n",
       "      <th></th>\n",
       "      <th>From</th>\n",
       "      <th>Until</th>\n",
       "      <th>Position</th>\n",
       "      <th>Affiliation</th>\n",
       "      <th>Place</th>\n",
       "      <th>Description</th>\n",
       "    </tr>\n",
       "  </thead>\n",
       "  <tbody>\n",
       "    <tr>\n",
       "      <th>0</th>\n",
       "      <td>September 2020</td>\n",
       "      <td>Present</td>\n",
       "      <td>Doctoral Researcher</td>\n",
       "      <td>University of Bayreuth</td>\n",
       "      <td>Bayreuth, Germany</td>\n",
       "      <td>NaN</td>\n",
       "    </tr>\n",
       "    <tr>\n",
       "      <th>1</th>\n",
       "      <td>January 2020</td>\n",
       "      <td>June 2020</td>\n",
       "      <td>Research Internship</td>\n",
       "      <td>University of Bayreuth</td>\n",
       "      <td>Bayreuth, Germany</td>\n",
       "      <td>Developed a visual analysis tool to analyze se...</td>\n",
       "    </tr>\n",
       "    <tr>\n",
       "      <th>2</th>\n",
       "      <td>August 2019</td>\n",
       "      <td>October 2019</td>\n",
       "      <td>Machine Learning Internship</td>\n",
       "      <td>Stadtwerke München GmbH</td>\n",
       "      <td>Munich, Germany</td>\n",
       "      <td>Developed and deployed ML model to forecast el...</td>\n",
       "    </tr>\n",
       "    <tr>\n",
       "      <th>3</th>\n",
       "      <td>November 2018</td>\n",
       "      <td>February 2019</td>\n",
       "      <td>Software Developer</td>\n",
       "      <td>Celonis SE</td>\n",
       "      <td>Munich, Germany</td>\n",
       "      <td>Build the Python-Data-Push API for automatic d...</td>\n",
       "    </tr>\n",
       "    <tr>\n",
       "      <th>4</th>\n",
       "      <td>October 2017</td>\n",
       "      <td>November 2018</td>\n",
       "      <td>Data Scientist</td>\n",
       "      <td>Celonis SE</td>\n",
       "      <td>Munich, Germany</td>\n",
       "      <td>- technical implementation of customer data\\r\\...</td>\n",
       "    </tr>\n",
       "    <tr>\n",
       "      <th>5</th>\n",
       "      <td>April 2016</td>\n",
       "      <td>July 2016</td>\n",
       "      <td>Teaching Assistant</td>\n",
       "      <td>University Munich</td>\n",
       "      <td>Munich, Germany</td>\n",
       "      <td>NaN</td>\n",
       "    </tr>\n",
       "    <tr>\n",
       "      <th>6</th>\n",
       "      <td>March 2015</td>\n",
       "      <td>April 2016</td>\n",
       "      <td>Software Developer</td>\n",
       "      <td>FeldM</td>\n",
       "      <td>Munich, Germany</td>\n",
       "      <td>NaN</td>\n",
       "    </tr>\n",
       "  </tbody>\n",
       "</table>\n",
       "</div>"
      ],
      "text/plain": [
       "             From          Until                     Position  \\\n",
       "0  September 2020        Present          Doctoral Researcher   \n",
       "1    January 2020      June 2020          Research Internship   \n",
       "2     August 2019   October 2019  Machine Learning Internship   \n",
       "3   November 2018  February 2019           Software Developer   \n",
       "4    October 2017  November 2018               Data Scientist   \n",
       "5      April 2016      July 2016           Teaching Assistant   \n",
       "6      March 2015     April 2016           Software Developer   \n",
       "\n",
       "               Affiliation              Place  \\\n",
       "0   University of Bayreuth  Bayreuth, Germany   \n",
       "1   University of Bayreuth  Bayreuth, Germany   \n",
       "2  Stadtwerke München GmbH    Munich, Germany   \n",
       "3               Celonis SE    Munich, Germany   \n",
       "4               Celonis SE    Munich, Germany   \n",
       "5        University Munich    Munich, Germany   \n",
       "6                    FeldM    Munich, Germany   \n",
       "\n",
       "                                         Description  \n",
       "0                                                NaN  \n",
       "1  Developed a visual analysis tool to analyze se...  \n",
       "2  Developed and deployed ML model to forecast el...  \n",
       "3  Build the Python-Data-Push API for automatic d...  \n",
       "4  - technical implementation of customer data\\r\\...  \n",
       "5                                                NaN  \n",
       "6                                                NaN  "
      ]
     },
     "execution_count": 1,
     "metadata": {},
     "output_type": "execute_result"
    }
   ],
   "source": [
    "import pandas as pd\n",
    "from pathlib import Path\n",
    "\n",
    "work = pd.read_csv('../data/work_experience.csv')\n",
    "work"
   ]
  },
  {
   "cell_type": "code",
   "execution_count": 2,
   "metadata": {
    "execution": {
     "iopub.execute_input": "2021-05-04T20:49:02.754338Z",
     "iopub.status.busy": "2021-05-04T20:49:02.753824Z",
     "iopub.status.idle": "2021-05-04T20:49:02.755857Z",
     "shell.execute_reply": "2021-05-04T20:49:02.755491Z"
    }
   },
   "outputs": [],
   "source": [
    "def format_experience(work_df):\n",
    "    def mapDiv(item):\n",
    "        return '''\n",
    "        <div class=\"work-item\">\n",
    "            <div class=\"work-item-from\">%(From)s</div>\n",
    "            <div class=\"work-item-until\">%(Until)s</div>\n",
    "            <div class=\"work-item-affiliation\">%(Affiliation)s</div>\n",
    "            <div class=\"work-item-role\">%(Position)s</div>\n",
    "            <div class=\"work-item-place\">%(Place)s</div>\n",
    "        </div>\n",
    "        ''' % item\n",
    "\n",
    "    divs = \"\\n\".join([mapDiv(item) for _, item in work_df.iterrows()])\n",
    "    return f'''\n",
    "        <div class=\"work\">\n",
    "            {divs}\n",
    "        </div>\n",
    "    '''"
   ]
  },
  {
   "cell_type": "code",
   "execution_count": 3,
   "metadata": {
    "execution": {
     "iopub.execute_input": "2021-05-04T20:49:02.759391Z",
     "iopub.status.busy": "2021-05-04T20:49:02.758895Z",
     "iopub.status.idle": "2021-05-04T20:49:02.760652Z",
     "shell.execute_reply": "2021-05-04T20:49:02.761070Z"
    }
   },
   "outputs": [],
   "source": [
    "with Path('../_sections/_professional.html').open('w') as out:\n",
    "    out.write(format_experience(work))"
   ]
  }
 ],
 "metadata": {
  "language_info": {
   "codemirror_mode": {
    "name": "ipython",
    "version": 3
   },
   "file_extension": ".py",
   "mimetype": "text/x-python",
   "name": "python",
   "nbconvert_exporter": "python",
   "pygments_lexer": "ipython3",
   "version": "3.8.5"
  }
 },
 "nbformat": 4,
 "nbformat_minor": 2
}
